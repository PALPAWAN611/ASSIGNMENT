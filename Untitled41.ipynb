{
  "nbformat": 4,
  "nbformat_minor": 0,
  "metadata": {
    "colab": {
      "provenance": [],
      "authorship_tag": "ABX9TyNjnGnCmaxMDovXW9TYMgE3",
      "include_colab_link": true
    },
    "kernelspec": {
      "name": "python3",
      "display_name": "Python 3"
    },
    "language_info": {
      "name": "python"
    }
  },
  "cells": [
    {
      "cell_type": "markdown",
      "metadata": {
        "id": "view-in-github",
        "colab_type": "text"
      },
      "source": [
        "<a href=\"https://colab.research.google.com/github/PALPAWAN611/ASSIGNMENT/blob/main/Untitled41.ipynb\" target=\"_parent\"><img src=\"https://colab.research.google.com/assets/colab-badge.svg\" alt=\"Open In Colab\"/></a>"
      ]
    },
    {
      "cell_type": "code",
      "execution_count": null,
      "metadata": {
        "id": "GevAnvVvtX9x"
      },
      "outputs": [],
      "source": [
        "import numpy as np\n",
        "ar=np.eye(3)"
      ]
    },
    {
      "cell_type": "code",
      "source": [
        "print(ar)"
      ],
      "metadata": {
        "colab": {
          "base_uri": "https://localhost:8080/"
        },
        "id": "xPm3_Padtc2j",
        "outputId": "e28ceb82-db2b-4ae5-ee05-0c2854a670aa"
      },
      "execution_count": null,
      "outputs": [
        {
          "output_type": "stream",
          "name": "stdout",
          "text": [
            "[[1. 0. 0.]\n",
            " [0. 1. 0.]\n",
            " [0. 0. 1.]]\n"
          ]
        }
      ]
    },
    {
      "cell_type": "code",
      "source": [
        "ar=np.linspace(10,20,5)"
      ],
      "metadata": {
        "id": "Lx_oh9Nqtfar"
      },
      "execution_count": null,
      "outputs": []
    },
    {
      "cell_type": "code",
      "source": [
        "print(ar)"
      ],
      "metadata": {
        "colab": {
          "base_uri": "https://localhost:8080/"
        },
        "id": "Erl9h9B1tseK",
        "outputId": "a359ef65-02da-4c44-a894-d77d9fb4becf"
      },
      "execution_count": null,
      "outputs": [
        {
          "output_type": "stream",
          "name": "stdout",
          "text": [
            "[10.  12.5 15.  17.5 20. ]\n"
          ]
        }
      ]
    },
    {
      "cell_type": "code",
      "source": [
        "var=np.random.rand(4)\n",
        "print(var)"
      ],
      "metadata": {
        "colab": {
          "base_uri": "https://localhost:8080/"
        },
        "id": "h27t8vXutt1d",
        "outputId": "41d9b619-effe-4cb1-e548-c0e413f6ce0f"
      },
      "execution_count": null,
      "outputs": [
        {
          "output_type": "stream",
          "name": "stdout",
          "text": [
            "[0.22535444 0.6898586  0.11982139 0.6696723 ]\n"
          ]
        }
      ]
    },
    {
      "cell_type": "code",
      "source": [
        "var=np.random.rand(3,4)\n",
        "print(var)"
      ],
      "metadata": {
        "colab": {
          "base_uri": "https://localhost:8080/"
        },
        "id": "8pUVwXMAt4wB",
        "outputId": "8fa1076e-896a-4aed-9003-db3ee73eabda"
      },
      "execution_count": null,
      "outputs": [
        {
          "output_type": "stream",
          "name": "stdout",
          "text": [
            "[[0.21623538 0.90482726 0.84653761 0.28026821]\n",
            " [0.92839892 0.04767142 0.79832723 0.90271864]\n",
            " [0.21761908 0.53745438 0.1575207  0.7767181 ]]\n"
          ]
        }
      ]
    },
    {
      "cell_type": "code",
      "source": [
        "var3=np.random.ranf(4)"
      ],
      "metadata": {
        "id": "M8t9I19KuHrE"
      },
      "execution_count": null,
      "outputs": []
    },
    {
      "cell_type": "code",
      "source": [
        "print(var3)"
      ],
      "metadata": {
        "colab": {
          "base_uri": "https://localhost:8080/"
        },
        "id": "TgqcwjUIuMos",
        "outputId": "cbb3bc94-65bb-4a6f-e8c6-d4ac320b12ce"
      },
      "execution_count": null,
      "outputs": [
        {
          "output_type": "stream",
          "name": "stdout",
          "text": [
            "[0.41309029 0.07750193 0.31574834 0.98260914]\n"
          ]
        }
      ]
    },
    {
      "cell_type": "code",
      "source": [
        "var=np.random.randn(5)\n",
        "print(var)"
      ],
      "metadata": {
        "colab": {
          "base_uri": "https://localhost:8080/"
        },
        "id": "j9NTKHituPuy",
        "outputId": "ccc0858a-abcb-4b09-d844-884ba143a72f"
      },
      "execution_count": null,
      "outputs": [
        {
          "output_type": "stream",
          "name": "stdout",
          "text": [
            "[-1.72213833 -0.88806533  1.26908715 -1.16894576 -0.84500461]\n"
          ]
        }
      ]
    },
    {
      "cell_type": "code",
      "source": [
        "var=np.random.randint(2,10,6)\n",
        "print(var)"
      ],
      "metadata": {
        "colab": {
          "base_uri": "https://localhost:8080/"
        },
        "id": "efFPU1Elul0Q",
        "outputId": "4f30abd4-4b5b-407e-f1c6-a05d823b2961"
      },
      "execution_count": null,
      "outputs": [
        {
          "output_type": "stream",
          "name": "stdout",
          "text": [
            "[4 9 7 7 8 2]\n"
          ]
        }
      ]
    },
    {
      "cell_type": "code",
      "source": [
        "var=np.array([1,2,3,4])\n",
        "print(\"data type:\",var.dtype)"
      ],
      "metadata": {
        "colab": {
          "base_uri": "https://localhost:8080/"
        },
        "id": "ywz_2ln2u_oL",
        "outputId": "71650a4d-4b17-42da-ccc6-f696921f652c"
      },
      "execution_count": null,
      "outputs": [
        {
          "output_type": "stream",
          "name": "stdout",
          "text": [
            "data type: int64\n"
          ]
        }
      ]
    },
    {
      "cell_type": "code",
      "source": [
        "var=np.array([1.0,0.1,2.1,1.3])\n",
        "print(\"data type:\",var.dtype)"
      ],
      "metadata": {
        "colab": {
          "base_uri": "https://localhost:8080/"
        },
        "id": "vDZEI4o6zKmV",
        "outputId": "58997b1f-de9e-4baa-bd54-16f849ddf6dc"
      },
      "execution_count": null,
      "outputs": [
        {
          "output_type": "stream",
          "name": "stdout",
          "text": [
            "data type: float64\n"
          ]
        }
      ]
    },
    {
      "cell_type": "code",
      "source": [
        "#conversion of datatype"
      ],
      "metadata": {
        "id": "Q04If05bzdPB"
      },
      "execution_count": null,
      "outputs": []
    },
    {
      "cell_type": "code",
      "source": [
        "x=np.array([1,2,3,4,5])\n",
        "new=np.float32(x)\n",
        "print(\"data type:\",x.dtype)\n",
        "print(\"data type:\",new.dtype)\n",
        "print(x)\n",
        "print(new)\n"
      ],
      "metadata": {
        "colab": {
          "base_uri": "https://localhost:8080/"
        },
        "id": "ZHMYcuqEzobI",
        "outputId": "bd21c30d-7fb7-43a0-88d2-a94bd88ddd72"
      },
      "execution_count": null,
      "outputs": [
        {
          "output_type": "stream",
          "name": "stdout",
          "text": [
            "data type: int64\n",
            "data type: float32\n",
            "[1 2 3 4 5]\n",
            "[1. 2. 3. 4. 5.]\n"
          ]
        }
      ]
    },
    {
      "cell_type": "code",
      "source": [
        "ar=np.zeros([3,4])"
      ],
      "metadata": {
        "id": "GOTxonS60GMm"
      },
      "execution_count": null,
      "outputs": []
    },
    {
      "cell_type": "code",
      "source": [
        "print(ar)"
      ],
      "metadata": {
        "colab": {
          "base_uri": "https://localhost:8080/"
        },
        "id": "KZ50OzRw1SNz",
        "outputId": "eb524d04-35b9-4809-d553-114c712fd1dc"
      },
      "execution_count": null,
      "outputs": [
        {
          "output_type": "stream",
          "name": "stdout",
          "text": [
            "[[0. 0. 0. 0.]\n",
            " [0. 0. 0. 0.]\n",
            " [0. 0. 0. 0.]]\n"
          ]
        }
      ]
    },
    {
      "cell_type": "code",
      "source": [
        "r=np.random.ranf(4)\n",
        "print(var3)"
      ],
      "metadata": {
        "colab": {
          "base_uri": "https://localhost:8080/"
        },
        "id": "oHiIIXOo1ycS",
        "outputId": "d6d41fc9-6f0b-4a56-e866-d6f3350567a9"
      },
      "execution_count": null,
      "outputs": [
        {
          "output_type": "stream",
          "name": "stdout",
          "text": [
            "[0.41309029 0.07750193 0.31574834 0.98260914]\n"
          ]
        }
      ]
    },
    {
      "cell_type": "code",
      "source": [
        "#adata types\n",
        "ar=np.array([1,2,3,4,5])\n",
        "print(\"data type:\",var.dtype)"
      ],
      "metadata": {
        "colab": {
          "base_uri": "https://localhost:8080/"
        },
        "id": "hrX1wE1d1TqB",
        "outputId": "5fbc0a33-7ed2-469a-cae6-dc503a08168c"
      },
      "execution_count": null,
      "outputs": [
        {
          "output_type": "stream",
          "name": "stdout",
          "text": [
            "data type: float64\n"
          ]
        }
      ]
    },
    {
      "cell_type": "code",
      "source": [
        "#integer to float\n",
        "x2=np.array([1,2,3,4])\n",
        "paw=np.float32(x2)\n",
        "print(\"Data Type:\",x2.dtype)\n",
        "print(\"Data Type:\",paw.dtype)\n",
        "print(x2)\n",
        "print(paw)"
      ],
      "metadata": {
        "colab": {
          "base_uri": "https://localhost:8080/"
        },
        "id": "dhs7hNGK26JZ",
        "outputId": "74ea9c47-a79f-4457-cc79-6a50fd1cf2db"
      },
      "execution_count": null,
      "outputs": [
        {
          "output_type": "stream",
          "name": "stdout",
          "text": [
            "Data Type: int64\n",
            "Data Type: float32\n",
            "[1 2 3 4]\n",
            "[1. 2. 3. 4.]\n"
          ]
        }
      ]
    },
    {
      "cell_type": "code",
      "source": [
        "x3=np.array([1,2,3,4,5])\n",
        "pa=np.float32(x3)\n",
        "print(\"DataType:\",x3.dtype)\n",
        "print(\"DataType:\",pa.dtype)"
      ],
      "metadata": {
        "colab": {
          "base_uri": "https://localhost:8080/"
        },
        "id": "Pa2zwYWv3_ea",
        "outputId": "bacbacde-7791-4eb9-c457-e6df98f06747"
      },
      "execution_count": null,
      "outputs": [
        {
          "output_type": "stream",
          "name": "stdout",
          "text": [
            "DataType: int64\n",
            "DataType: float32\n"
          ]
        }
      ]
    },
    {
      "cell_type": "code",
      "source": [
        "#ARTHEMETIC OPERATION"
      ],
      "metadata": {
        "id": "F6y6_t6o5Ch7"
      },
      "execution_count": null,
      "outputs": []
    },
    {
      "cell_type": "code",
      "source": [
        "var=np.array([1,2,3,4])\n",
        "var2=np.array([1,2,3,4])\n",
        "varadd=var+var2\n",
        "print(varadd)"
      ],
      "metadata": {
        "colab": {
          "base_uri": "https://localhost:8080/"
        },
        "id": "zINMl_VJ5qRC",
        "outputId": "77e87f55-37d4-42e3-fd1c-b7f903350aff"
      },
      "execution_count": null,
      "outputs": [
        {
          "output_type": "stream",
          "name": "stdout",
          "text": [
            "[2 4 6 8]\n"
          ]
        }
      ]
    },
    {
      "cell_type": "code",
      "source": [
        "var=np.array(([1,2,3,4],[1,2,3,4]))\n",
        "print(var)\n",
        "print()\n",
        "print(var.shape)"
      ],
      "metadata": {
        "colab": {
          "base_uri": "https://localhost:8080/"
        },
        "id": "aAtVSNps6CR5",
        "outputId": "31528f5a-ea41-4ad4-8bf2-45b2100ee3ed"
      },
      "execution_count": null,
      "outputs": [
        {
          "output_type": "stream",
          "name": "stdout",
          "text": [
            "[[1 2 3 4]\n",
            " [1 2 3 4]]\n",
            "\n",
            "(2, 4)\n"
          ]
        }
      ]
    },
    {
      "cell_type": "code",
      "source": [
        "var=np.array([1,2,3,4],ndmin=3)\n",
        "print(var)\n",
        "print(var.ndim)"
      ],
      "metadata": {
        "colab": {
          "base_uri": "https://localhost:8080/"
        },
        "id": "PKr4_ZRy6sYR",
        "outputId": "2c767895-63f0-417d-90c3-6d0fd1d47eab"
      },
      "execution_count": null,
      "outputs": [
        {
          "output_type": "stream",
          "name": "stdout",
          "text": [
            "[[[1 2 3 4]]]\n",
            "3\n"
          ]
        }
      ]
    },
    {
      "cell_type": "code",
      "source": [
        "#reshape"
      ],
      "metadata": {
        "id": "SaxtCyr-6tnD"
      },
      "execution_count": null,
      "outputs": []
    },
    {
      "cell_type": "code",
      "source": [
        "var=np.array([1,2,3,4,5,6])\n",
        "x=var.reshape(3,2)\n",
        "print(x)\n",
        "print(x.ndim)\n"
      ],
      "metadata": {
        "colab": {
          "base_uri": "https://localhost:8080/"
        },
        "id": "us04aH47-Akk",
        "outputId": "ecc3db8e-6018-460f-ad4e-6145fb9fedd8"
      },
      "execution_count": null,
      "outputs": [
        {
          "output_type": "stream",
          "name": "stdout",
          "text": [
            "[[1 2]\n",
            " [3 4]\n",
            " [5 6]]\n",
            "2\n"
          ]
        }
      ]
    },
    {
      "cell_type": "code",
      "source": [
        "ar=var.reshape(-1)"
      ],
      "metadata": {
        "id": "HrYxQSkd_OvF"
      },
      "execution_count": null,
      "outputs": []
    },
    {
      "cell_type": "code",
      "source": [
        "print(ar)"
      ],
      "metadata": {
        "colab": {
          "base_uri": "https://localhost:8080/"
        },
        "id": "5Btvsw-8_naD",
        "outputId": "c009cc0a-c130-4c49-f297-e6357f82bd36"
      },
      "execution_count": null,
      "outputs": [
        {
          "output_type": "stream",
          "name": "stdout",
          "text": [
            "[1 2 3 4 5 6]\n"
          ]
        }
      ]
    },
    {
      "cell_type": "code",
      "source": [
        "#broad casting"
      ],
      "metadata": {
        "id": "192W1UGK_pSz"
      },
      "execution_count": null,
      "outputs": []
    },
    {
      "cell_type": "code",
      "source": [
        "'''Broadcasting=\"the term broad cating refer to the ability of numpy to\n",
        " treat arrays of different shapes during arthemitic operation'''"
      ],
      "metadata": {
        "colab": {
          "base_uri": "https://localhost:8080/",
          "height": 36
        },
        "id": "20INLDf9ADgY",
        "outputId": "4086103c-4668-439c-99c1-63cdc37eb79a"
      },
      "execution_count": null,
      "outputs": [
        {
          "output_type": "execute_result",
          "data": {
            "text/plain": [
              "'Broadcasting=\"the term broad cating refer to the ability of numpy to\\n treat arrays of different shapes during arthemitic operation'"
            ],
            "application/vnd.google.colaboratory.intrinsic+json": {
              "type": "string"
            }
          },
          "metadata": {},
          "execution_count": 64
        }
      ]
    },
    {
      "cell_type": "code",
      "source": [
        "a=np.array([1,2,3,4])\n",
        "b=np.array([10,20,30,40])\n",
        "c=a*b\n",
        "print(c)"
      ],
      "metadata": {
        "colab": {
          "base_uri": "https://localhost:8080/"
        },
        "id": "UHPt6MjKAi-R",
        "outputId": "2296a3d3-cccd-487b-a719-0bdabf5543ba"
      },
      "execution_count": null,
      "outputs": [
        {
          "output_type": "stream",
          "name": "stdout",
          "text": [
            "[ 10  40  90 160]\n"
          ]
        }
      ]
    },
    {
      "cell_type": "code",
      "source": [],
      "metadata": {
        "id": "AMBiFboDBTL9"
      },
      "execution_count": null,
      "outputs": []
    },
    {
      "cell_type": "code",
      "source": [
        "'''if deminsion are not same then element to element operation are not possible\n",
        "operation on array of non-similar shape is still possible\n",
        "It is possible by broadcasting'''"
      ],
      "metadata": {
        "colab": {
          "base_uri": "https://localhost:8080/",
          "height": 36
        },
        "id": "Ktr818Q9A-J1",
        "outputId": "a18ac909-115c-4893-8be2-a5020b36cbbf"
      },
      "execution_count": null,
      "outputs": [
        {
          "output_type": "execute_result",
          "data": {
            "text/plain": [
              "'if deminsion are not same then element to element operation are not possible\\noperation on array of non-similar shape is still possible\\nIt is possible by broadcasting'"
            ],
            "application/vnd.google.colaboratory.intrinsic+json": {
              "type": "string"
            }
          },
          "metadata": {},
          "execution_count": 66
        }
      ]
    },
    {
      "cell_type": "code",
      "source": [
        "a=np.array([[1],[2]])\n",
        "print(a.shape)\n",
        "print()\n",
        "y=np.array([[1,2,3],[1,2,3]])\n",
        "print(y.shape)\n",
        "print(a+y)\n",
        "print(a.ndim)\n",
        "print(y.ndim)"
      ],
      "metadata": {
        "colab": {
          "base_uri": "https://localhost:8080/"
        },
        "id": "wiqegnlUB7mL",
        "outputId": "5e695dff-ac2b-4dc3-c39e-e7f4ec059042"
      },
      "execution_count": null,
      "outputs": [
        {
          "output_type": "stream",
          "name": "stdout",
          "text": [
            "(2, 1)\n",
            "\n",
            "(2, 3)\n",
            "[[2 3 4]\n",
            " [3 4 5]]\n",
            "2\n",
            "2\n"
          ]
        }
      ]
    },
    {
      "cell_type": "code",
      "source": [
        "#slicing"
      ],
      "metadata": {
        "id": "nidNVGYsC1c1"
      },
      "execution_count": null,
      "outputs": []
    },
    {
      "cell_type": "code",
      "source": [
        "var=np.array([9,8,7,6,5,4,3])\n",
        "print(var)\n",
        "print()\n",
        "print(\"2 to 5\",var[1:5])"
      ],
      "metadata": {
        "colab": {
          "base_uri": "https://localhost:8080/"
        },
        "id": "slLRxBYxHHQO",
        "outputId": "1c7fd843-fc68-4807-a6e3-8f133a103298"
      },
      "execution_count": null,
      "outputs": [
        {
          "output_type": "stream",
          "name": "stdout",
          "text": [
            "[9 8 7 6 5 4 3]\n",
            "\n",
            "2 to 5 [8 7 6 5]\n"
          ]
        }
      ]
    },
    {
      "cell_type": "code",
      "source": [
        "print(\"2 to end:\",var[1:])\n",
        "print(\"start to 5:\",var[:5])\n",
        "print(\"stop:\",var[::3])"
      ],
      "metadata": {
        "colab": {
          "base_uri": "https://localhost:8080/"
        },
        "id": "JdZ2g8MTH3PR",
        "outputId": "f5e00a6d-de60-4862-cda1-69f2c0cada74"
      },
      "execution_count": null,
      "outputs": [
        {
          "output_type": "stream",
          "name": "stdout",
          "text": [
            "2 to end: [8 7 6 5 4 3]\n",
            "start to 5: [9 8 7 6 5]\n",
            "stop: [9 6 3]\n"
          ]
        }
      ]
    },
    {
      "cell_type": "code",
      "source": [
        "#how to do 2 d array slicing"
      ],
      "metadata": {
        "id": "BQWNZCHlIQ3g"
      },
      "execution_count": null,
      "outputs": []
    },
    {
      "cell_type": "code",
      "source": [
        "var=np.array([[1,2,3,4,5],[9,8,7,6,5],[11,12,13,14,15]])\n",
        "print(var)\n",
        "print()\n",
        "print(\"8 to 5:\",var[1,1:])\n",
        "print(\"2 to 5:\",var[0,1:])\n",
        "print(\"11 to 15:\",var[2,0:5])\n",
        "print(\"11 to 15:\",var[2,0:])"
      ],
      "metadata": {
        "colab": {
          "base_uri": "https://localhost:8080/"
        },
        "id": "xB-qxKo7Izn1",
        "outputId": "77ba7d4b-3ece-4c94-e72f-13dd345f6f8e"
      },
      "execution_count": null,
      "outputs": [
        {
          "output_type": "stream",
          "name": "stdout",
          "text": [
            "[[ 1  2  3  4  5]\n",
            " [ 9  8  7  6  5]\n",
            " [11 12 13 14 15]]\n",
            "\n",
            "8 to 5: [8 7 6 5]\n",
            "2 to 5: [2 3 4 5]\n",
            "11 to 15: [11 12 13 14 15]\n",
            "11 to 15: [11 12 13 14 15]\n"
          ]
        }
      ]
    },
    {
      "cell_type": "code",
      "source": [
        "#itterating arrray"
      ],
      "metadata": {
        "id": "4fWj06EQJkrE"
      },
      "execution_count": null,
      "outputs": []
    },
    {
      "cell_type": "code",
      "source": [
        "'''we use numpy.nditer:-it is an efficient multidiminsional iterator\n",
        "   object using which it is possible to itterate\n",
        "   over an array'''1"
      ],
      "metadata": {
        "id": "UH2xj8FoKJWZ"
      },
      "execution_count": null,
      "outputs": []
    }
  ]
}